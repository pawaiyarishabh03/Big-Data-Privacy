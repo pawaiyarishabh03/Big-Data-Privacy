{
  "nbformat": 4,
  "nbformat_minor": 0,
  "metadata": {
    "colab": {
      "provenance": []
    },
    "kernelspec": {
      "name": "python3",
      "display_name": "Python 3"
    },
    "language_info": {
      "name": "python"
    },
    "accelerator": "GPU",
    "gpuClass": "standard"
  },
  "cells": [
    {
      "cell_type": "code",
      "source": [
        "import pandas as pd\n",
        "import numpy"
      ],
      "metadata": {
        "id": "c3fvGUP2-tVG"
      },
      "execution_count": null,
      "outputs": []
    },
    {
      "cell_type": "code",
      "source": [
        "names = (\n",
        "    'age',\n",
        "    'workclass',\n",
        "    'fnlwgt',\n",
        "    'education',\n",
        "    'education-num',\n",
        "    'marital-status',\n",
        "    'occupation',\n",
        "    'relationship',\n",
        "    'race',\n",
        "    'sex',\n",
        "    'capital-gain',\n",
        "    'capital-loss',\n",
        "    'hours-per-week',\n",
        "    'native-country',\n",
        "    'income',\n",
        ")\n",
        "\n",
        "categorical = set((\n",
        "    'workclass',\n",
        "    'education',\n",
        "    'marital-status',\n",
        "    'occupation',\n",
        "    'relationship',\n",
        "    'sex',\n",
        "    'native-country',\n",
        "    'race',\n",
        "    'income',\n",
        "))\n",
        "df = pd.read_csv(\"/content/adult.all.txt\", sep=\", \", header=None, names=names, index_col=False, engine='python');"
      ],
      "metadata": {
        "id": "uubq6BnI-0td"
      },
      "execution_count": null,
      "outputs": []
    },
    {
      "cell_type": "code",
      "source": [
        "df.head()"
      ],
      "metadata": {
        "colab": {
          "base_uri": "https://localhost:8080/",
          "height": 314
        },
        "id": "0xWbokNU_ot5",
        "outputId": "6781a346-e8eb-4d70-f09c-2f5d190ef630"
      },
      "execution_count": null,
      "outputs": [
        {
          "output_type": "execute_result",
          "data": {
            "text/plain": [
              "   age         workclass  fnlwgt  education  education-num  \\\n",
              "0   39         State-gov   77516  Bachelors             13   \n",
              "1   50  Self-emp-not-inc   83311  Bachelors             13   \n",
              "2   38           Private  215646    HS-grad              9   \n",
              "3   53           Private  234721       11th              7   \n",
              "4   28           Private  338409  Bachelors             13   \n",
              "\n",
              "       marital-status         occupation   relationship   race     sex  \\\n",
              "0       Never-married       Adm-clerical  Not-in-family  White    Male   \n",
              "1  Married-civ-spouse    Exec-managerial        Husband  White    Male   \n",
              "2            Divorced  Handlers-cleaners  Not-in-family  White    Male   \n",
              "3  Married-civ-spouse  Handlers-cleaners        Husband  Black    Male   \n",
              "4  Married-civ-spouse     Prof-specialty           Wife  Black  Female   \n",
              "\n",
              "   capital-gain  capital-loss  hours-per-week native-country income  \n",
              "0          2174             0              40  United-States  <=50k  \n",
              "1             0             0              13  United-States  <=50k  \n",
              "2             0             0              40  United-States  <=50k  \n",
              "3             0             0              40  United-States  <=50k  \n",
              "4             0             0              40           Cuba  <=50k  "
            ],
            "text/html": [
              "\n",
              "  <div id=\"df-5c1a8b99-2fe3-474f-919b-bd8b6c14ac68\">\n",
              "    <div class=\"colab-df-container\">\n",
              "      <div>\n",
              "<style scoped>\n",
              "    .dataframe tbody tr th:only-of-type {\n",
              "        vertical-align: middle;\n",
              "    }\n",
              "\n",
              "    .dataframe tbody tr th {\n",
              "        vertical-align: top;\n",
              "    }\n",
              "\n",
              "    .dataframe thead th {\n",
              "        text-align: right;\n",
              "    }\n",
              "</style>\n",
              "<table border=\"1\" class=\"dataframe\">\n",
              "  <thead>\n",
              "    <tr style=\"text-align: right;\">\n",
              "      <th></th>\n",
              "      <th>age</th>\n",
              "      <th>workclass</th>\n",
              "      <th>fnlwgt</th>\n",
              "      <th>education</th>\n",
              "      <th>education-num</th>\n",
              "      <th>marital-status</th>\n",
              "      <th>occupation</th>\n",
              "      <th>relationship</th>\n",
              "      <th>race</th>\n",
              "      <th>sex</th>\n",
              "      <th>capital-gain</th>\n",
              "      <th>capital-loss</th>\n",
              "      <th>hours-per-week</th>\n",
              "      <th>native-country</th>\n",
              "      <th>income</th>\n",
              "    </tr>\n",
              "  </thead>\n",
              "  <tbody>\n",
              "    <tr>\n",
              "      <th>0</th>\n",
              "      <td>39</td>\n",
              "      <td>State-gov</td>\n",
              "      <td>77516</td>\n",
              "      <td>Bachelors</td>\n",
              "      <td>13</td>\n",
              "      <td>Never-married</td>\n",
              "      <td>Adm-clerical</td>\n",
              "      <td>Not-in-family</td>\n",
              "      <td>White</td>\n",
              "      <td>Male</td>\n",
              "      <td>2174</td>\n",
              "      <td>0</td>\n",
              "      <td>40</td>\n",
              "      <td>United-States</td>\n",
              "      <td>&lt;=50k</td>\n",
              "    </tr>\n",
              "    <tr>\n",
              "      <th>1</th>\n",
              "      <td>50</td>\n",
              "      <td>Self-emp-not-inc</td>\n",
              "      <td>83311</td>\n",
              "      <td>Bachelors</td>\n",
              "      <td>13</td>\n",
              "      <td>Married-civ-spouse</td>\n",
              "      <td>Exec-managerial</td>\n",
              "      <td>Husband</td>\n",
              "      <td>White</td>\n",
              "      <td>Male</td>\n",
              "      <td>0</td>\n",
              "      <td>0</td>\n",
              "      <td>13</td>\n",
              "      <td>United-States</td>\n",
              "      <td>&lt;=50k</td>\n",
              "    </tr>\n",
              "    <tr>\n",
              "      <th>2</th>\n",
              "      <td>38</td>\n",
              "      <td>Private</td>\n",
              "      <td>215646</td>\n",
              "      <td>HS-grad</td>\n",
              "      <td>9</td>\n",
              "      <td>Divorced</td>\n",
              "      <td>Handlers-cleaners</td>\n",
              "      <td>Not-in-family</td>\n",
              "      <td>White</td>\n",
              "      <td>Male</td>\n",
              "      <td>0</td>\n",
              "      <td>0</td>\n",
              "      <td>40</td>\n",
              "      <td>United-States</td>\n",
              "      <td>&lt;=50k</td>\n",
              "    </tr>\n",
              "    <tr>\n",
              "      <th>3</th>\n",
              "      <td>53</td>\n",
              "      <td>Private</td>\n",
              "      <td>234721</td>\n",
              "      <td>11th</td>\n",
              "      <td>7</td>\n",
              "      <td>Married-civ-spouse</td>\n",
              "      <td>Handlers-cleaners</td>\n",
              "      <td>Husband</td>\n",
              "      <td>Black</td>\n",
              "      <td>Male</td>\n",
              "      <td>0</td>\n",
              "      <td>0</td>\n",
              "      <td>40</td>\n",
              "      <td>United-States</td>\n",
              "      <td>&lt;=50k</td>\n",
              "    </tr>\n",
              "    <tr>\n",
              "      <th>4</th>\n",
              "      <td>28</td>\n",
              "      <td>Private</td>\n",
              "      <td>338409</td>\n",
              "      <td>Bachelors</td>\n",
              "      <td>13</td>\n",
              "      <td>Married-civ-spouse</td>\n",
              "      <td>Prof-specialty</td>\n",
              "      <td>Wife</td>\n",
              "      <td>Black</td>\n",
              "      <td>Female</td>\n",
              "      <td>0</td>\n",
              "      <td>0</td>\n",
              "      <td>40</td>\n",
              "      <td>Cuba</td>\n",
              "      <td>&lt;=50k</td>\n",
              "    </tr>\n",
              "  </tbody>\n",
              "</table>\n",
              "</div>\n",
              "      <button class=\"colab-df-convert\" onclick=\"convertToInteractive('df-5c1a8b99-2fe3-474f-919b-bd8b6c14ac68')\"\n",
              "              title=\"Convert this dataframe to an interactive table.\"\n",
              "              style=\"display:none;\">\n",
              "        \n",
              "  <svg xmlns=\"http://www.w3.org/2000/svg\" height=\"24px\"viewBox=\"0 0 24 24\"\n",
              "       width=\"24px\">\n",
              "    <path d=\"M0 0h24v24H0V0z\" fill=\"none\"/>\n",
              "    <path d=\"M18.56 5.44l.94 2.06.94-2.06 2.06-.94-2.06-.94-.94-2.06-.94 2.06-2.06.94zm-11 1L8.5 8.5l.94-2.06 2.06-.94-2.06-.94L8.5 2.5l-.94 2.06-2.06.94zm10 10l.94 2.06.94-2.06 2.06-.94-2.06-.94-.94-2.06-.94 2.06-2.06.94z\"/><path d=\"M17.41 7.96l-1.37-1.37c-.4-.4-.92-.59-1.43-.59-.52 0-1.04.2-1.43.59L10.3 9.45l-7.72 7.72c-.78.78-.78 2.05 0 2.83L4 21.41c.39.39.9.59 1.41.59.51 0 1.02-.2 1.41-.59l7.78-7.78 2.81-2.81c.8-.78.8-2.07 0-2.86zM5.41 20L4 18.59l7.72-7.72 1.47 1.35L5.41 20z\"/>\n",
              "  </svg>\n",
              "      </button>\n",
              "      \n",
              "  <style>\n",
              "    .colab-df-container {\n",
              "      display:flex;\n",
              "      flex-wrap:wrap;\n",
              "      gap: 12px;\n",
              "    }\n",
              "\n",
              "    .colab-df-convert {\n",
              "      background-color: #E8F0FE;\n",
              "      border: none;\n",
              "      border-radius: 50%;\n",
              "      cursor: pointer;\n",
              "      display: none;\n",
              "      fill: #1967D2;\n",
              "      height: 32px;\n",
              "      padding: 0 0 0 0;\n",
              "      width: 32px;\n",
              "    }\n",
              "\n",
              "    .colab-df-convert:hover {\n",
              "      background-color: #E2EBFA;\n",
              "      box-shadow: 0px 1px 2px rgba(60, 64, 67, 0.3), 0px 1px 3px 1px rgba(60, 64, 67, 0.15);\n",
              "      fill: #174EA6;\n",
              "    }\n",
              "\n",
              "    [theme=dark] .colab-df-convert {\n",
              "      background-color: #3B4455;\n",
              "      fill: #D2E3FC;\n",
              "    }\n",
              "\n",
              "    [theme=dark] .colab-df-convert:hover {\n",
              "      background-color: #434B5C;\n",
              "      box-shadow: 0px 1px 3px 1px rgba(0, 0, 0, 0.15);\n",
              "      filter: drop-shadow(0px 1px 2px rgba(0, 0, 0, 0.3));\n",
              "      fill: #FFFFFF;\n",
              "    }\n",
              "  </style>\n",
              "\n",
              "      <script>\n",
              "        const buttonEl =\n",
              "          document.querySelector('#df-5c1a8b99-2fe3-474f-919b-bd8b6c14ac68 button.colab-df-convert');\n",
              "        buttonEl.style.display =\n",
              "          google.colab.kernel.accessAllowed ? 'block' : 'none';\n",
              "\n",
              "        async function convertToInteractive(key) {\n",
              "          const element = document.querySelector('#df-5c1a8b99-2fe3-474f-919b-bd8b6c14ac68');\n",
              "          const dataTable =\n",
              "            await google.colab.kernel.invokeFunction('convertToInteractive',\n",
              "                                                     [key], {});\n",
              "          if (!dataTable) return;\n",
              "\n",
              "          const docLinkHtml = 'Like what you see? Visit the ' +\n",
              "            '<a target=\"_blank\" href=https://colab.research.google.com/notebooks/data_table.ipynb>data table notebook</a>'\n",
              "            + ' to learn more about interactive tables.';\n",
              "          element.innerHTML = '';\n",
              "          dataTable['output_type'] = 'display_data';\n",
              "          await google.colab.output.renderOutput(dataTable, element);\n",
              "          const docLink = document.createElement('div');\n",
              "          docLink.innerHTML = docLinkHtml;\n",
              "          element.appendChild(docLink);\n",
              "        }\n",
              "      </script>\n",
              "    </div>\n",
              "  </div>\n",
              "  "
            ]
          },
          "metadata": {},
          "execution_count": 6
        }
      ]
    },
    {
      "cell_type": "code",
      "source": [
        "for name in categorical:\n",
        "    df[name] = df[name].astype('category')"
      ],
      "metadata": {
        "id": "gU5W10bhAA8k"
      },
      "execution_count": null,
      "outputs": []
    },
    {
      "cell_type": "code",
      "source": [
        "def get_spans(df, partition, scale=None):\n",
        "    \"\"\"\n",
        "    :param        df: the dataframe for which to calculate the spans\n",
        "    :param partition: the partition for which to calculate the spans\n",
        "    :param     scale: if given, the spans of each column will be divided\n",
        "                      by the value in `scale` for that column\n",
        "    :        returns: The spans of all columns in the partition\n",
        "    \"\"\"\n",
        "    spans = {}\n",
        "    for column in df.columns:\n",
        "        if column in categorical:\n",
        "            span = len(df[column][partition].unique())\n",
        "        else:\n",
        "            span = df[column][partition].max()-df[column][partition].min()\n",
        "        if scale is not None:\n",
        "            span = span/scale[column]\n",
        "        spans[column] = span\n",
        "    return spans"
      ],
      "metadata": {
        "id": "DBjvTGtoAR3D"
      },
      "execution_count": null,
      "outputs": []
    },
    {
      "cell_type": "code",
      "source": [
        "full_spans = get_spans(df, df.index)\n",
        "full_spans"
      ],
      "metadata": {
        "colab": {
          "base_uri": "https://localhost:8080/"
        },
        "id": "MKVyvKBqApQJ",
        "outputId": "e41275aa-01f2-49ab-c788-8687aa4a962f"
      },
      "execution_count": null,
      "outputs": [
        {
          "output_type": "execute_result",
          "data": {
            "text/plain": [
              "{'age': 73,\n",
              " 'workclass': 9,\n",
              " 'fnlwgt': 1478115,\n",
              " 'education': 16,\n",
              " 'education-num': 15,\n",
              " 'marital-status': 7,\n",
              " 'occupation': 15,\n",
              " 'relationship': 6,\n",
              " 'race': 5,\n",
              " 'sex': 2,\n",
              " 'capital-gain': 99999,\n",
              " 'capital-loss': 4356,\n",
              " 'hours-per-week': 98,\n",
              " 'native-country': 42,\n",
              " 'income': 2}"
            ]
          },
          "metadata": {},
          "execution_count": 9
        }
      ]
    },
    {
      "cell_type": "code",
      "source": [
        "def split(df, partition, column):\n",
        "    \"\"\"\n",
        "    :param        df: The dataframe to split\n",
        "    :param partition: The partition to split\n",
        "    :param    column: The column along which to split\n",
        "    :        returns: A tuple containing a split of the original partition\n",
        "    \"\"\"\n",
        "    dfp = df[column][partition]\n",
        "    if column in categorical:\n",
        "        values = dfp.unique()\n",
        "        lv = set(values[:len(values)//2])\n",
        "        rv = set(values[len(values)//2:])\n",
        "        return dfp.index[dfp.isin(lv)], dfp.index[dfp.isin(rv)]\n",
        "    else:\n",
        "        median = dfp.median()\n",
        "        dfl = dfp.index[dfp < median]\n",
        "        dfr = dfp.index[dfp >= median]\n",
        "        return (dfl, dfr)"
      ],
      "metadata": {
        "id": "SGCOpPrCBNbV"
      },
      "execution_count": null,
      "outputs": []
    },
    {
      "cell_type": "code",
      "source": [
        "def is_k_anonymous(df, partition, sensitive_column, k=3):\n",
        "    \"\"\"\n",
        "    :param               df: The dataframe on which to check the partition.\n",
        "    :param        partition: The partition of the dataframe to check.\n",
        "    :param sensitive_column: The name of the sensitive column\n",
        "    :param                k: The desired k\n",
        "    :returns               : True if the partition is valid according to our k-anonymity criteria, False otherwise.\n",
        "    \"\"\"\n",
        "    if len(partition) < k:\n",
        "        return False\n",
        "    return True\n",
        "\n",
        "def partition_dataset(df, feature_columns, sensitive_column, scale, is_valid):\n",
        "    \"\"\"\n",
        "    :param               df: The dataframe to be partitioned.\n",
        "    :param  feature_columns: A list of column names along which to partition the dataset.\n",
        "    :param sensitive_column: The name of the sensitive column (to be passed on to the `is_valid` function)\n",
        "    :param            scale: The column spans as generated before.\n",
        "    :param         is_valid: A function that takes a dataframe and a partition and returns True if the partition is valid.\n",
        "    :returns               : A list of valid partitions that cover the entire dataframe.\n",
        "    \"\"\"\n",
        "    finished_partitions = []\n",
        "    partitions = [df.index]\n",
        "    while partitions:\n",
        "        partition = partitions.pop(0)\n",
        "        spans = get_spans(df[feature_columns], partition, scale)\n",
        "        for column, span in sorted(spans.items(), key=lambda x:-x[1]):\n",
        "            lp, rp = split(df, partition, column)\n",
        "            if not is_valid(df, lp, sensitive_column) or not is_valid(df, rp, sensitive_column):\n",
        "                continue\n",
        "            partitions.extend((lp, rp))\n",
        "            break\n",
        "        else:\n",
        "            finished_partitions.append(partition)\n",
        "    return finished_partitions"
      ],
      "metadata": {
        "id": "vEtjmnrXBnSF"
      },
      "execution_count": null,
      "outputs": []
    },
    {
      "cell_type": "code",
      "source": [
        "feature_columns = ['age', 'education-num']\n",
        "sensitive_column = 'income'\n",
        "finished_partitions = partition_dataset(df, feature_columns, sensitive_column, full_spans, is_k_anonymous)"
      ],
      "metadata": {
        "id": "Tp7CDwe7BzSc"
      },
      "execution_count": null,
      "outputs": []
    },
    {
      "cell_type": "code",
      "source": [
        "len(finished_partitions)"
      ],
      "metadata": {
        "colab": {
          "base_uri": "https://localhost:8080/"
        },
        "id": "EXDZc1KyB7Qb",
        "outputId": "54a17406-523d-400d-f55a-5be43d68dd80"
      },
      "execution_count": null,
      "outputs": [
        {
          "output_type": "execute_result",
          "data": {
            "text/plain": [
              "500"
            ]
          },
          "metadata": {},
          "execution_count": 13
        }
      ]
    },
    {
      "cell_type": "code",
      "source": [
        "import matplotlib.pylab as pl\n",
        "import matplotlib.patches as patches"
      ],
      "metadata": {
        "id": "SmXRciGuCD3F"
      },
      "execution_count": null,
      "outputs": []
    },
    {
      "cell_type": "code",
      "source": [
        "def build_indexes(df):\n",
        "    indexes = {}\n",
        "    for column in categorical:\n",
        "        unique, counts = numpy.unique(str(df[column]).split(), return_counts=True)\n",
        "        values = sorted(df[column].unique())\n",
        "        indexes[column] = { x : y for x, y in zip(values, range(len(values)))}\n",
        "    return indexes\n",
        "\n",
        "def get_coords(df, column, partition, indexes, offset=0.1):\n",
        "    if column in categorical:\n",
        "        sv = df[column][partition].sort_values()\n",
        "        l, r = indexes[column][sv[sv.index[0]]], indexes[column][sv[sv.index[-1]]]+1.0\n",
        "    else:\n",
        "        sv = df[column][partition].sort_values()\n",
        "        next_value = sv[sv.index[-1]]\n",
        "        larger_values = df[df[column] > next_value][column]\n",
        "        if len(larger_values) > 0:\n",
        "            next_value = larger_values.min()\n",
        "        l = sv[sv.index[0]]\n",
        "        r = next_value\n",
        "    # we add some offset to make the partitions more easily visible\n",
        "    l -= offset\n",
        "    r += offset\n",
        "    return l, r\n",
        "\n",
        "def get_partition_rects(df, partitions, column_x, column_y, indexes, offsets=[0.1, 0.1]):\n",
        "    rects = []\n",
        "    for partition in partitions:\n",
        "        xl, xr = get_coords(df, column_x, partition, indexes, offset=offsets[0])\n",
        "        yl, yr = get_coords(df, column_y, partition, indexes, offset=offsets[1])\n",
        "        rects.append(((xl, yl),(xr, yr)))\n",
        "    return rects\n",
        "\n",
        "def get_bounds(df, column, indexes, offset=1.0):\n",
        "    if column in categorical:\n",
        "        return 0-offset, len(indexes[column])+offset\n",
        "    return df[column].min()-offset, df[column].max()+offset"
      ],
      "metadata": {
        "id": "gcXe7X4tCKLL"
      },
      "execution_count": null,
      "outputs": []
    },
    {
      "cell_type": "code",
      "source": [
        "# we calculate the bounding rects of all partitions that we created\n",
        "indexes = build_indexes(df)\n",
        "column_x, column_y = feature_columns[:2]\n",
        "rects = get_partition_rects(df, finished_partitions, column_x, column_y, indexes, offsets=[0.0, 0.0])"
      ],
      "metadata": {
        "id": "AbQqEEXqCRR9"
      },
      "execution_count": null,
      "outputs": []
    },
    {
      "cell_type": "code",
      "source": [
        "rects[:10]"
      ],
      "metadata": {
        "colab": {
          "base_uri": "https://localhost:8080/"
        },
        "id": "LzJwmc_jFHXG",
        "outputId": "35d2dfb5-f2eb-4cbc-b0c4-bd55217530eb"
      },
      "execution_count": null,
      "outputs": [
        {
          "output_type": "execute_result",
          "data": {
            "text/plain": [
              "[((17.0, 7.0), (18.0, 9.0)),\n",
              " ((18.0, 7.0), (20.0, 9.0)),\n",
              " ((21.0, 10.0), (22.0, 11.0)),\n",
              " ((25.0, 10.0), (27.0, 11.0)),\n",
              " ((37.0, 9.0), (39.0, 10.0)),\n",
              " ((37.0, 10.0), (38.0, 13.0)),\n",
              " ((41.0, 10.0), (43.0, 13.0)),\n",
              " ((39.0, 13.0), (41.0, 16.0)),\n",
              " ((46.0, 10.0), (48.0, 13.0)),\n",
              " ((46.0, 13.0), (48.0, 16.0))]"
            ]
          },
          "metadata": {},
          "execution_count": 17
        }
      ]
    },
    {
      "cell_type": "code",
      "source": [
        "# we plot the rects\n",
        "def plot_rects(df, ax, rects, column_x, column_y, edgecolor='black', facecolor='none'):\n",
        "    for (xl, yl),(xr, yr) in rects:\n",
        "        ax.add_patch(patches.Rectangle((xl,yl),xr-xl,yr-yl,linewidth=1,edgecolor=edgecolor,facecolor=facecolor, alpha=0.5))\n",
        "    ax.set_xlim(*get_bounds(df, column_x, indexes))\n",
        "    ax.set_ylim(*get_bounds(df, column_y, indexes))\n",
        "    ax.set_xlabel(column_x)\n",
        "    ax.set_ylabel(column_y)"
      ],
      "metadata": {
        "id": "psyH4we-FNLp"
      },
      "execution_count": null,
      "outputs": []
    },
    {
      "cell_type": "code",
      "source": [
        "pl.figure(figsize=(20,20))\n",
        "ax = pl.subplot(111)\n",
        "plot_rects(df, ax, rects, column_x, column_y, facecolor='r')\n",
        "pl.scatter(df[column_x], df[column_y])\n",
        "pl.show()"
      ],
      "metadata": {
        "colab": {
          "base_uri": "https://localhost:8080/",
          "height": 1000
        },
        "id": "K9PY1GOCFRu_",
        "outputId": "4668d82f-7186-4f7b-c818-44e14967276a"
      },
      "execution_count": null,
      "outputs": [
        {
          "output_type": "display_data",
          "data": {
            "text/plain": [
              "<Figure size 1440x1440 with 1 Axes>"
            ],
            "image/png": "[encoded data removed]"
          },
          "metadata": {
            "needs_background": "light"
          }
        }
      ]
    },
    {
      "cell_type": "code",
      "source": [
        "def agg_categorical_column(series):\n",
        "    return [','.join(set(series))]\n",
        "\n",
        "def agg_numerical_column(series):\n",
        "    return [series.mean()]"
      ],
      "metadata": {
        "id": "PA6MIVZ-Fmh4"
      },
      "execution_count": null,
      "outputs": []
    },
    {
      "cell_type": "code",
      "source": [
        "def build_anonymized_dataset(df, partitions, feature_columns, sensitive_column, max_partitions=None):\n",
        "    aggregations = {}\n",
        "    for column in feature_columns:\n",
        "        if column in categorical:\n",
        "            aggregations[column] = agg_categorical_column\n",
        "        else:\n",
        "            aggregations[column] = agg_numerical_column\n",
        "    rows = []\n",
        "    for i, partition in enumerate(partitions):\n",
        "        if i % 100 == 1:\n",
        "            print(\"Finished {} partitions...\".format(i))\n",
        "        if max_partitions is not None and i > max_partitions:\n",
        "            break\n",
        "        grouped_columns = df.loc[partition].agg(aggregations, squeeze=False)\n",
        "        sensitive_counts = df.loc[partition].groupby(sensitive_column).agg({sensitive_column : 'count'})\n",
        "        values = grouped_columns.to_dict()\n",
        "        for sensitive_value, count in sensitive_counts[sensitive_column].items():\n",
        "            if count == 0:\n",
        "                continue\n",
        "            values.update({\n",
        "                sensitive_column : sensitive_value,\n",
        "                'count' : count,\n",
        "\n",
        "            })\n",
        "            rows.append(values.copy())\n",
        "    return pd.DataFrame(rows)"
      ],
      "metadata": {
        "id": "-dFzwMm-F03h"
      },
      "execution_count": null,
      "outputs": []
    },
    {
      "cell_type": "code",
      "source": [
        "dfn = build_anonymized_dataset(df, finished_partitions, feature_columns, sensitive_column)"
      ],
      "metadata": {
        "colab": {
          "base_uri": "https://localhost:8080/"
        },
        "id": "yCCNTHq4F7Dl",
        "outputId": "d7d73130-e19b-4819-f282-b938a944b0ea"
      },
      "execution_count": null,
      "outputs": [
        {
          "output_type": "stream",
          "name": "stdout",
          "text": [
            "Finished 1 partitions...\n",
            "Finished 101 partitions...\n",
            "Finished 201 partitions...\n",
            "Finished 301 partitions...\n",
            "Finished 401 partitions...\n"
          ]
        }
      ]
    },
    {
      "cell_type": "code",
      "source": [
        "print(dfn)"
      ],
      "metadata": {
        "colab": {
          "base_uri": "https://localhost:8080/"
        },
        "id": "ZpdL4CRhwqYi",
        "outputId": "353c6cbd-519d-42f9-e758-188374256784"
      },
      "execution_count": null,
      "outputs": [
        {
          "output_type": "stream",
          "name": "stdout",
          "text": [
            "                     age        education-num income  count\n",
            "0                 [17.0]  [7.200598802395209]  <=50k    334\n",
            "1    [18.22787610619469]  [7.283185840707965]  <=50k    451\n",
            "2    [18.22787610619469]  [7.283185840707965]   >50k      1\n",
            "3                 [21.0]               [10.0]  <=50k    568\n",
            "4                 [21.0]               [10.0]   >50k      2\n",
            "..                   ...                  ...    ...    ...\n",
            "817              [79.25]               [16.0]   >50k      2\n",
            "818               [90.0]               [14.0]  <=50k      2\n",
            "819               [90.0]               [14.0]   >50k      3\n",
            "820               [89.2]               [15.0]  <=50k      3\n",
            "821               [89.2]               [15.0]   >50k      2\n",
            "\n",
            "[822 rows x 4 columns]\n"
          ]
        }
      ]
    },
    {
      "cell_type": "markdown",
      "source": [
        "L diversity\n"
      ],
      "metadata": {
        "id": "V0xNCjGFNWPs"
      }
    },
    {
      "cell_type": "code",
      "source": [
        "def diversity(df, partition, column):\n",
        "    return len(df[column][partition].unique())\n",
        "\n",
        "def is_l_diverse(df, partition, sensitive_column, l=2):\n",
        "    \"\"\"\n",
        "    :param               df: The dataframe for which to check l-diversity\n",
        "    :param        partition: The partition of the dataframe on which to check l-diversity\n",
        "    :param sensitive_column: The name of the sensitive column\n",
        "    :param                l: The minimum required diversity of sensitive attribute values in the partition\n",
        "    \"\"\"\n",
        "    return diversity(df, partition, sensitive_column) >= l"
      ],
      "metadata": {
        "id": "5ibGmD52Lz0R"
      },
      "execution_count": null,
      "outputs": []
    },
    {
      "cell_type": "code",
      "source": [
        "finished_l_diverse_partitions = partition_dataset(df, feature_columns, sensitive_column, full_spans, lambda *args: is_k_anonymous(*args) and is_l_diverse(*args))"
      ],
      "metadata": {
        "id": "nXqcTi0JNc-l"
      },
      "execution_count": null,
      "outputs": []
    },
    {
      "cell_type": "code",
      "source": [
        "len(finished_l_diverse_partitions)"
      ],
      "metadata": {
        "colab": {
          "base_uri": "https://localhost:8080/"
        },
        "id": "dTHo0A4dNlF5",
        "outputId": "ad54dc24-a33d-410f-b202-72f77bc59b47"
      },
      "execution_count": null,
      "outputs": [
        {
          "output_type": "execute_result",
          "data": {
            "text/plain": [
              "309"
            ]
          },
          "metadata": {},
          "execution_count": 29
        }
      ]
    },
    {
      "cell_type": "code",
      "source": [
        "column_x, column_y = feature_columns[:2]\n",
        "l_diverse_rects = get_partition_rects(df, finished_l_diverse_partitions, column_x, column_y, indexes, offsets=[0.0, 0.0])"
      ],
      "metadata": {
        "id": "OdttoqoDNrLA"
      },
      "execution_count": null,
      "outputs": []
    },
    {
      "cell_type": "code",
      "source": [
        "pl.figure(figsize=(20,20))\n",
        "ax = pl.subplot(111)\n",
        "plot_rects(df, ax, l_diverse_rects, column_x, column_y, edgecolor='b', facecolor='b')\n",
        "plot_rects(df, ax, rects, column_x, column_y, facecolor='r')\n",
        "pl.scatter(df[column_x], df[column_y])\n",
        "pl.show()"
      ],
      "metadata": {
        "colab": {
          "base_uri": "https://localhost:8080/",
          "height": 1000
        },
        "id": "G8apERncNtYD",
        "outputId": "e3a92036-ba06-48fa-d77c-13f45358f214"
      },
      "execution_count": null,
      "outputs": [
        {
          "output_type": "display_data",
          "data": {
            "text/plain": [
              "<Figure size 1440x1440 with 1 Axes>"
            ],
            "image/png": "[encoded data removed]"
          },
          "metadata": {
            "needs_background": "light"
          }
        }
      ]
    },
    {
      "cell_type": "code",
      "source": [
        "# again we build an anonymized dataset from the l-diverse partitions\n",
        "dfl = build_anonymized_dataset(df, finished_l_diverse_partitions, feature_columns, sensitive_column)"
      ],
      "metadata": {
        "colab": {
          "base_uri": "https://localhost:8080/"
        },
        "id": "P9Po3TJWN1Rh",
        "outputId": "27711cd9-dc35-4bac-a748-8deac5c187cc"
      },
      "execution_count": null,
      "outputs": [
        {
          "output_type": "stream",
          "name": "stdout",
          "text": [
            "Finished 1 partitions...\n",
            "Finished 101 partitions...\n",
            "Finished 201 partitions...\n",
            "Finished 301 partitions...\n"
          ]
        }
      ]
    },
    {
      "cell_type": "code",
      "source": [
        "print(dfl)"
      ],
      "metadata": {
        "colab": {
          "base_uri": "https://localhost:8080/"
        },
        "id": "2LaHkO7WyDDf",
        "outputId": "6212f7f2-4993-48e9-880c-1867dacb76c5"
      },
      "execution_count": null,
      "outputs": [
        {
          "output_type": "stream",
          "name": "stdout",
          "text": [
            "                      age        education-num income  count\n",
            "0    [17.706106870229007]  [7.248091603053435]  <=50k    785\n",
            "1    [17.706106870229007]  [7.248091603053435]   >50k      1\n",
            "2    [20.080607476635514]                [9.0]  <=50k   1707\n",
            "3    [20.080607476635514]                [9.0]   >50k      5\n",
            "4    [19.320276497695854]               [10.0]  <=50k   1301\n",
            "..                    ...                  ...    ...    ...\n",
            "613               [79.25]               [16.0]   >50k      2\n",
            "614                [90.0]               [14.0]  <=50k      2\n",
            "615                [90.0]               [14.0]   >50k      3\n",
            "616                [89.2]               [15.0]  <=50k      3\n",
            "617                [89.2]               [15.0]   >50k      2\n",
            "\n",
            "[618 rows x 4 columns]\n"
          ]
        }
      ]
    },
    {
      "cell_type": "markdown",
      "source": [
        "Pseudonimyzation"
      ],
      "metadata": {
        "id": "hHmTFp9_H3Ph"
      }
    },
    {
      "cell_type": "code",
      "source": [
        "import pandas as pd\n",
        "import numpy as np"
      ],
      "metadata": {
        "id": "hg2NClZYH8DN"
      },
      "execution_count": null,
      "outputs": []
    },
    {
      "cell_type": "code",
      "source": [
        "names = (\n",
        "    'age',\n",
        "    'workclass',\n",
        "    'fnlwgt',\n",
        "    'education',\n",
        "    'education-num',\n",
        "    'marital-status',\n",
        "    'occupation',\n",
        "    'relationship',\n",
        "    'race',\n",
        "    'sex',\n",
        "    'capital-gain',\n",
        "    'capital-loss',\n",
        "    'hours-per-week',\n",
        "    'native-country',\n",
        "    'income',\n",
        ")\n",
        "\n",
        "df = pd.read_csv(\"/content/adult.all.txt\", sep=\", \", header=None, names=names, index_col=False, engine='python');"
      ],
      "metadata": {
        "colab": {
          "base_uri": "https://localhost:8080/"
        },
        "id": "a2JOVauTIuCx",
        "outputId": "3a29c87e-24a8-47f7-f969-a755e3bc7aa4"
      },
      "execution_count": null,
      "outputs": [
        {
          "output_type": "stream",
          "name": "stderr",
          "text": [
            "/usr/local/lib/python3.8/dist-packages/pandas/io/parsers/readers.py:586: ParserWarning: Length of header or names does not match length of data. This leads to a loss of data with index_col=False.\n",
            "  return _read(filepath_or_buffer, kwds)\n"
          ]
        }
      ]
    },
    {
      "cell_type": "code",
      "source": [
        "df.head()"
      ],
      "metadata": {
        "colab": {
          "base_uri": "https://localhost:8080/",
          "height": 423
        },
        "id": "UcnIzNuCJ9pi",
        "outputId": "62644ac0-49f2-4e83-d7db-91b425f66649"
      },
      "execution_count": null,
      "outputs": [
        {
          "output_type": "execute_result",
          "data": {
            "text/plain": [
              "   age         workclass  fnlwgt  education  education-num  \\\n",
              "0   39         State-gov   77516  Bachelors           13.0   \n",
              "1   50  Self-emp-not-inc   83311  Bachelors           13.0   \n",
              "2   38           Private  215646    HS-grad            9.0   \n",
              "3   53           Private  234721       11th            7.0   \n",
              "4   28           Private  338409  Bachelors           13.0   \n",
              "\n",
              "       marital-status         occupation   relationship   race     sex  \\\n",
              "0       Never-married       Adm-clerical  Not-in-family  White    Male   \n",
              "1  Married-civ-spouse    Exec-managerial        Husband  White    Male   \n",
              "2            Divorced  Handlers-cleaners  Not-in-family  White    Male   \n",
              "3  Married-civ-spouse  Handlers-cleaners        Husband  Black    Male   \n",
              "4  Married-civ-spouse     Prof-specialty           Wife  Black  Female   \n",
              "\n",
              "   capital-gain  capital-loss  hours-per-week native-country income  \n",
              "0        2174.0           0.0            40.0  United-States  <=50k  \n",
              "1           0.0           0.0            13.0  United-States  <=50k  \n",
              "2           0.0           0.0            40.0  United-States  <=50k  \n",
              "3           0.0           0.0            40.0  United-States  <=50k  \n",
              "4           0.0           0.0            40.0           Cuba  <=50k  "
            ],
            "text/html": [
              "\n",
              "  <div id=\"df-bc76d7b3-328f-41d6-8758-410763f43fa7\">\n",
              "    <div class=\"colab-df-container\">\n",
              "      <div>\n",
              "<style scoped>\n",
              "    .dataframe tbody tr th:only-of-type {\n",
              "        vertical-align: middle;\n",
              "    }\n",
              "\n",
              "    .dataframe tbody tr th {\n",
              "        vertical-align: top;\n",
              "    }\n",
              "\n",
              "    .dataframe thead th {\n",
              "        text-align: right;\n",
              "    }\n",
              "</style>\n",
              "<table border=\"1\" class=\"dataframe\">\n",
              "  <thead>\n",
              "    <tr style=\"text-align: right;\">\n",
              "      <th></th>\n",
              "      <th>age</th>\n",
              "      <th>workclass</th>\n",
              "      <th>fnlwgt</th>\n",
              "      <th>education</th>\n",
              "      <th>education-num</th>\n",
              "      <th>marital-status</th>\n",
              "      <th>occupation</th>\n",
              "      <th>relationship</th>\n",
              "      <th>race</th>\n",
              "      <th>sex</th>\n",
              "      <th>capital-gain</th>\n",
              "      <th>capital-loss</th>\n",
              "      <th>hours-per-week</th>\n",
              "      <th>native-country</th>\n",
              "      <th>income</th>\n",
              "    </tr>\n",
              "  </thead>\n",
              "  <tbody>\n",
              "    <tr>\n",
              "      <th>0</th>\n",
              "      <td>39</td>\n",
              "      <td>State-gov</td>\n",
              "      <td>77516</td>\n",
              "      <td>Bachelors</td>\n",
              "      <td>13.0</td>\n",
              "      <td>Never-married</td>\n",
              "      <td>Adm-clerical</td>\n",
              "      <td>Not-in-family</td>\n",
              "      <td>White</td>\n",
              "      <td>Male</td>\n",
              "      <td>2174.0</td>\n",
              "      <td>0.0</td>\n",
              "      <td>40.0</td>\n",
              "      <td>United-States</td>\n",
              "      <td>&lt;=50k</td>\n",
              "    </tr>\n",
              "    <tr>\n",
              "      <th>1</th>\n",
              "      <td>50</td>\n",
              "      <td>Self-emp-not-inc</td>\n",
              "      <td>83311</td>\n",
              "      <td>Bachelors</td>\n",
              "      <td>13.0</td>\n",
              "      <td>Married-civ-spouse</td>\n",
              "      <td>Exec-managerial</td>\n",
              "      <td>Husband</td>\n",
              "      <td>White</td>\n",
              "      <td>Male</td>\n",
              "      <td>0.0</td>\n",
              "      <td>0.0</td>\n",
              "      <td>13.0</td>\n",
              "      <td>United-States</td>\n",
              "      <td>&lt;=50k</td>\n",
              "    </tr>\n",
              "    <tr>\n",
              "      <th>2</th>\n",
              "      <td>38</td>\n",
              "      <td>Private</td>\n",
              "      <td>215646</td>\n",
              "      <td>HS-grad</td>\n",
              "      <td>9.0</td>\n",
              "      <td>Divorced</td>\n",
              "      <td>Handlers-cleaners</td>\n",
              "      <td>Not-in-family</td>\n",
              "      <td>White</td>\n",
              "      <td>Male</td>\n",
              "      <td>0.0</td>\n",
              "      <td>0.0</td>\n",
              "      <td>40.0</td>\n",
              "      <td>United-States</td>\n",
              "      <td>&lt;=50k</td>\n",
              "    </tr>\n",
              "    <tr>\n",
              "      <th>3</th>\n",
              "      <td>53</td>\n",
              "      <td>Private</td>\n",
              "      <td>234721</td>\n",
              "      <td>11th</td>\n",
              "      <td>7.0</td>\n",
              "      <td>Married-civ-spouse</td>\n",
              "      <td>Handlers-cleaners</td>\n",
              "      <td>Husband</td>\n",
              "      <td>Black</td>\n",
              "      <td>Male</td>\n",
              "      <td>0.0</td>\n",
              "      <td>0.0</td>\n",
              "      <td>40.0</td>\n",
              "      <td>United-States</td>\n",
              "      <td>&lt;=50k</td>\n",
              "    </tr>\n",
              "    <tr>\n",
              "      <th>4</th>\n",
              "      <td>28</td>\n",
              "      <td>Private</td>\n",
              "      <td>338409</td>\n",
              "      <td>Bachelors</td>\n",
              "      <td>13.0</td>\n",
              "      <td>Married-civ-spouse</td>\n",
              "      <td>Prof-specialty</td>\n",
              "      <td>Wife</td>\n",
              "      <td>Black</td>\n",
              "      <td>Female</td>\n",
              "      <td>0.0</td>\n",
              "      <td>0.0</td>\n",
              "      <td>40.0</td>\n",
              "      <td>Cuba</td>\n",
              "      <td>&lt;=50k</td>\n",
              "    </tr>\n",
              "  </tbody>\n",
              "</table>\n",
              "</div>\n",
              "      <button class=\"colab-df-convert\" onclick=\"convertToInteractive('df-bc76d7b3-328f-41d6-8758-410763f43fa7')\"\n",
              "              title=\"Convert this dataframe to an interactive table.\"\n",
              "              style=\"display:none;\">\n",
              "        \n",
              "  <svg xmlns=\"http://www.w3.org/2000/svg\" height=\"24px\"viewBox=\"0 0 24 24\"\n",
              "       width=\"24px\">\n",
              "    <path d=\"M0 0h24v24H0V0z\" fill=\"none\"/>\n",
              "    <path d=\"M18.56 5.44l.94 2.06.94-2.06 2.06-.94-2.06-.94-.94-2.06-.94 2.06-2.06.94zm-11 1L8.5 8.5l.94-2.06 2.06-.94-2.06-.94L8.5 2.5l-.94 2.06-2.06.94zm10 10l.94 2.06.94-2.06 2.06-.94-2.06-.94-.94-2.06-.94 2.06-2.06.94z\"/><path d=\"M17.41 7.96l-1.37-1.37c-.4-.4-.92-.59-1.43-.59-.52 0-1.04.2-1.43.59L10.3 9.45l-7.72 7.72c-.78.78-.78 2.05 0 2.83L4 21.41c.39.39.9.59 1.41.59.51 0 1.02-.2 1.41-.59l7.78-7.78 2.81-2.81c.8-.78.8-2.07 0-2.86zM5.41 20L4 18.59l7.72-7.72 1.47 1.35L5.41 20z\"/>\n",
              "  </svg>\n",
              "      </button>\n",
              "      \n",
              "  <style>\n",
              "    .colab-df-container {\n",
              "      display:flex;\n",
              "      flex-wrap:wrap;\n",
              "      gap: 12px;\n",
              "    }\n",
              "\n",
              "    .colab-df-convert {\n",
              "      background-color: #E8F0FE;\n",
              "      border: none;\n",
              "      border-radius: 50%;\n",
              "      cursor: pointer;\n",
              "      display: none;\n",
              "      fill: #1967D2;\n",
              "      height: 32px;\n",
              "      padding: 0 0 0 0;\n",
              "      width: 32px;\n",
              "    }\n",
              "\n",
              "    .colab-df-convert:hover {\n",
              "      background-color: #E2EBFA;\n",
              "      box-shadow: 0px 1px 2px rgba(60, 64, 67, 0.3), 0px 1px 3px 1px rgba(60, 64, 67, 0.15);\n",
              "      fill: #174EA6;\n",
              "    }\n",
              "\n",
              "    [theme=dark] .colab-df-convert {\n",
              "      background-color: #3B4455;\n",
              "      fill: #D2E3FC;\n",
              "    }\n",
              "\n",
              "    [theme=dark] .colab-df-convert:hover {\n",
              "      background-color: #434B5C;\n",
              "      box-shadow: 0px 1px 3px 1px rgba(0, 0, 0, 0.15);\n",
              "      filter: drop-shadow(0px 1px 2px rgba(0, 0, 0, 0.3));\n",
              "      fill: #FFFFFF;\n",
              "    }\n",
              "  </style>\n",
              "\n",
              "      <script>\n",
              "        const buttonEl =\n",
              "          document.querySelector('#df-bc76d7b3-328f-41d6-8758-410763f43fa7 button.colab-df-convert');\n",
              "        buttonEl.style.display =\n",
              "          google.colab.kernel.accessAllowed ? 'block' : 'none';\n",
              "\n",
              "        async function convertToInteractive(key) {\n",
              "          const element = document.querySelector('#df-bc76d7b3-328f-41d6-8758-410763f43fa7');\n",
              "          const dataTable =\n",
              "            await google.colab.kernel.invokeFunction('convertToInteractive',\n",
              "                                                     [key], {});\n",
              "          if (!dataTable) return;\n",
              "\n",
              "          const docLinkHtml = 'Like what you see? Visit the ' +\n",
              "            '<a target=\"_blank\" href=https://colab.research.google.com/notebooks/data_table.ipynb>data table notebook</a>'\n",
              "            + ' to learn more about interactive tables.';\n",
              "          element.innerHTML = '';\n",
              "          dataTable['output_type'] = 'display_data';\n",
              "          await google.colab.output.renderOutput(dataTable, element);\n",
              "          const docLink = document.createElement('div');\n",
              "          docLink.innerHTML = docLinkHtml;\n",
              "          element.appendChild(docLink);\n",
              "        }\n",
              "      </script>\n",
              "    </div>\n",
              "  </div>\n",
              "  "
            ]
          },
          "metadata": {},
          "execution_count": 24
        }
      ]
    },
    {
      "cell_type": "code",
      "source": [
        "num_intervals =\n",
        "pseudonym_length = 8"
      ],
      "metadata": {
        "id": "8Dr-XwHXJoVq"
      },
      "execution_count": null,
      "outputs": []
    },
    {
      "cell_type": "code",
      "source": [
        "for i in range(num_intervals):\n",
        "    # Generate a new set of pseudonyms\n",
        "    pseudonyms = pd.Series([''.join(np.random.choice(list('abcdefghijklmnopqrstuvwxyz0123456789'), pseudonym_length)) for j in range(len(df))])\n",
        "    # Add the pseudonyms to the dataset\n",
        "    df[f'pseudonym_{i}'] = pseudonyms"
      ],
      "metadata": {
        "id": "bN4dgBvdKHBb"
      },
      "execution_count": null,
      "outputs": []
    },
    {
      "cell_type": "code",
      "source": [
        "print(df)"
      ],
      "metadata": {
        "colab": {
          "base_uri": "https://localhost:8080/"
        },
        "id": "AKb-SatnKJ3K",
        "outputId": "d8a40ff2-d90b-46c8-aa11-b6a7f8246b25"
      },
      "execution_count": null,
      "outputs": [
        {
          "output_type": "stream",
          "name": "stdout",
          "text": [
            "       age         workclass  fnlwgt  education  education-num  \\\n",
            "0       39         State-gov   77516  Bachelors           13.0   \n",
            "1       50  Self-emp-not-inc   83311  Bachelors           13.0   \n",
            "2       38           Private  215646    HS-grad            9.0   \n",
            "3       53           Private  234721       11th            7.0   \n",
            "4       28           Private  338409  Bachelors           13.0   \n",
            "...    ...               ...     ...        ...            ...   \n",
            "40250   39           Private  215419  Bachelors           13.0   \n",
            "40251   64                 ?  321403    HS-grad            9.0   \n",
            "40252   38           Private  374983  Bachelors           13.0   \n",
            "40253   44           Private   83891  Bachelors           13.0   \n",
            "40254   35      Self-emp-inc  182148  Bachelors           13.0   \n",
            "\n",
            "           marital-status         occupation    relationship  \\\n",
            "0           Never-married       Adm-clerical   Not-in-family   \n",
            "1      Married-civ-spouse    Exec-managerial         Husband   \n",
            "2                Divorced  Handlers-cleaners   Not-in-family   \n",
            "3      Married-civ-spouse  Handlers-cleaners         Husband   \n",
            "4      Married-civ-spouse     Prof-specialty            Wife   \n",
            "...                   ...                ...             ...   \n",
            "40250            Divorced     Prof-specialty   Not-in-family   \n",
            "40251             Widowed                  ?  Other-relative   \n",
            "40252  Married-civ-spouse     Prof-specialty         Husband   \n",
            "40253            Divorced       Adm-clerical       Own-child   \n",
            "40254  Married-civ-spouse    Exec-managerial         Husband   \n",
            "\n",
            "                     race     sex  capital-gain  capital-loss  hours-per-week  \\\n",
            "0                   White    Male        2174.0           0.0            40.0   \n",
            "1                   White    Male           0.0           0.0            13.0   \n",
            "2                   White    Male           0.0           0.0            40.0   \n",
            "3                   Black    Male           0.0           0.0            40.0   \n",
            "4                   Black  Female           0.0           0.0            40.0   \n",
            "...                   ...     ...           ...           ...             ...   \n",
            "40250               White  Female           0.0           0.0            36.0   \n",
            "40251               Black    Male           0.0           0.0            40.0   \n",
            "40252               White    Male           0.0           0.0            50.0   \n",
            "40253  Asian-Pac-Islander    Male        5455.0           0.0            40.0   \n",
            "40254               White    Male           0.0           0.0            60.0   \n",
            "\n",
            "      native-country income pseudonym_0  \n",
            "0      United-States  <=50k    ixfhid1d  \n",
            "1      United-States  <=50k    ffy60dxg  \n",
            "2      United-States  <=50k    i2xdvc30  \n",
            "3      United-States  <=50k    eodhw07l  \n",
            "4               Cuba  <=50k    zkhvd1wv  \n",
            "...              ...    ...         ...  \n",
            "40250  United-States  <=50k    6nnnxxe9  \n",
            "40251  United-States  <=50k    oexoa4yg  \n",
            "40252  United-States  <=50k    rbutcvyy  \n",
            "40253  United-States  <=50k    haqdvrl8  \n",
            "40254  United-States   >50k    cryqbqeg  \n",
            "\n",
            "[40255 rows x 16 columns]\n"
          ]
        }
      ]
    },
    {
      "cell_type": "markdown",
      "source": [
        "Pseudonimyzation on quasi identifiers"
      ],
      "metadata": {
        "id": "1OJ212KwLsYX"
      }
    },
    {
      "cell_type": "code",
      "source": [
        "import pandas as pd\n",
        "import numpy as np"
      ],
      "metadata": {
        "id": "Li6Yx3RbLzeF"
      },
      "execution_count": null,
      "outputs": []
    },
    {
      "cell_type": "code",
      "source": [
        "names = (\n",
        "    'age',\n",
        "    'workclass',\n",
        "    'fnlwgt',\n",
        "    'education',\n",
        "    'education-num',\n",
        "    'marital-status',\n",
        "    'occupation',\n",
        "    'relationship',\n",
        "    'race',\n",
        "    'sex',\n",
        "    'capital-gain',\n",
        "    'capital-loss',\n",
        "    'hours-per-week',\n",
        "    'native-country',\n",
        "    'income',\n",
        ")\n",
        "df = pd.read_csv(\"/content/adult.all.txt\", sep=\", \", header=None, names=names, index_col=False, engine='python');"
      ],
      "metadata": {
        "colab": {
          "base_uri": "https://localhost:8080/"
        },
        "id": "jVCHCPinN8cP",
        "outputId": "46943bd3-8631-42c0-f809-fd2cc0066ebf"
      },
      "execution_count": null,
      "outputs": [
        {
          "output_type": "stream",
          "name": "stderr",
          "text": [
            "/usr/local/lib/python3.8/dist-packages/pandas/io/parsers/readers.py:586: ParserWarning: Length of header or names does not match length of data. This leads to a loss of data with index_col=False.\n",
            "  return _read(filepath_or_buffer, kwds)\n"
          ]
        }
      ]
    },
    {
      "cell_type": "code",
      "source": [
        "pseudonym_length=8"
      ],
      "metadata": {
        "id": "RuT9ZrEcN-So"
      },
      "execution_count": null,
      "outputs": []
    },
    {
      "cell_type": "code",
      "source": [
        "print(df)"
      ],
      "metadata": {
        "colab": {
          "base_uri": "https://localhost:8080/"
        },
        "id": "3VkCPKeQQv7E",
        "outputId": "9ab4413e-d210-4b30-d623-8ed4dc00f99d"
      },
      "execution_count": null,
      "outputs": [
        {
          "output_type": "stream",
          "name": "stdout",
          "text": [
            "       age         workclass  fnlwgt  education  education-num  \\\n",
            "0       39         State-gov   77516  Bachelors           13.0   \n",
            "1       50  Self-emp-not-inc   83311  Bachelors           13.0   \n",
            "2       38           Private  215646    HS-grad            9.0   \n",
            "3       53           Private  234721       11th            7.0   \n",
            "4       28           Private  338409  Bachelors           13.0   \n",
            "...    ...               ...     ...        ...            ...   \n",
            "40250   39           Private  215419  Bachelors           13.0   \n",
            "40251   64                 ?  321403    HS-grad            9.0   \n",
            "40252   38           Private  374983  Bachelors           13.0   \n",
            "40253   44           Private   83891  Bachelors           13.0   \n",
            "40254   35      Self-emp-inc  182148  Bachelors           13.0   \n",
            "\n",
            "           marital-status         occupation    relationship  \\\n",
            "0           Never-married       Adm-clerical   Not-in-family   \n",
            "1      Married-civ-spouse    Exec-managerial         Husband   \n",
            "2                Divorced  Handlers-cleaners   Not-in-family   \n",
            "3      Married-civ-spouse  Handlers-cleaners         Husband   \n",
            "4      Married-civ-spouse     Prof-specialty            Wife   \n",
            "...                   ...                ...             ...   \n",
            "40250            Divorced     Prof-specialty   Not-in-family   \n",
            "40251             Widowed                  ?  Other-relative   \n",
            "40252  Married-civ-spouse     Prof-specialty         Husband   \n",
            "40253            Divorced       Adm-clerical       Own-child   \n",
            "40254  Married-civ-spouse    Exec-managerial         Husband   \n",
            "\n",
            "                     race     sex  capital-gain  capital-loss  hours-per-week  \\\n",
            "0                   White    Male        2174.0           0.0            40.0   \n",
            "1                   White    Male           0.0           0.0            13.0   \n",
            "2                   White    Male           0.0           0.0            40.0   \n",
            "3                   Black    Male           0.0           0.0            40.0   \n",
            "4                   Black  Female           0.0           0.0            40.0   \n",
            "...                   ...     ...           ...           ...             ...   \n",
            "40250               White  Female           0.0           0.0            36.0   \n",
            "40251               Black    Male           0.0           0.0            40.0   \n",
            "40252               White    Male           0.0           0.0            50.0   \n",
            "40253  Asian-Pac-Islander    Male        5455.0           0.0            40.0   \n",
            "40254               White    Male           0.0           0.0            60.0   \n",
            "\n",
            "      native-country income  \n",
            "0      United-States  <=50k  \n",
            "1      United-States  <=50k  \n",
            "2      United-States  <=50k  \n",
            "3      United-States  <=50k  \n",
            "4               Cuba  <=50k  \n",
            "...              ...    ...  \n",
            "40250  United-States  <=50k  \n",
            "40251  United-States  <=50k  \n",
            "40252  United-States  <=50k  \n",
            "40253  United-States  <=50k  \n",
            "40254  United-States   >50k  \n",
            "\n",
            "[40255 rows x 15 columns]\n"
          ]
        }
      ]
    },
    {
      "cell_type": "code",
      "source": [
        "alphabet = list('abcdefghijklmnopqrstuvwxyz0123456789')\n",
        "\n",
        "# Generating a new pseudonym for each age value\n",
        "age_pseudonyms = {}\n",
        "for age in df['age'].unique():\n",
        "    age_pseudonyms[age] = ''.join(np.random.choice(alphabet, pseudonym_length))\n",
        "\n",
        "df['age'] = df['age'].apply(lambda x: age_pseudonyms[x])\n",
        "\n",
        "sex={}\n",
        "for s in df['sex'].unique():\n",
        "    sex[s]=''.join(np.random.choice(alphabet, pseudonym_length))\n",
        "\n",
        "df['sex']=df['sex'].apply(lambda x:sex[x])\n",
        "\n",
        "education={}\n",
        "\n",
        "for e in df['education'].unique():\n",
        "    education[e]=''.join(np.random.choice(alphabet, pseudonym_length))\n",
        "\n",
        "df['education']=df['education'].apply(lambda x:education[x])"
      ],
      "metadata": {
        "id": "nv1r_N5KOMqQ"
      },
      "execution_count": null,
      "outputs": []
    },
    {
      "cell_type": "code",
      "source": [
        "print(df)"
      ],
      "metadata": {
        "colab": {
          "base_uri": "https://localhost:8080/"
        },
        "id": "wMbJ031vO65H",
        "outputId": "e03653d7-dda6-4d34-a927-b114235672eb"
      },
      "execution_count": null,
      "outputs": [
        {
          "output_type": "stream",
          "name": "stdout",
          "text": [
            "            age         workclass  fnlwgt education  education-num  \\\n",
            "0      vjv6s3wl         State-gov   77516  0p1k3n85           13.0   \n",
            "1      wrbn2kqf  Self-emp-not-inc   83311  0p1k3n85           13.0   \n",
            "2      ulvw1so2           Private  215646  pnzrk74y            9.0   \n",
            "3      izjk37yw           Private  234721  vudo8156            7.0   \n",
            "4      lsf2kdlh           Private  338409  0p1k3n85           13.0   \n",
            "...         ...               ...     ...       ...            ...   \n",
            "40250  vjv6s3wl           Private  215419  0p1k3n85           13.0   \n",
            "40251  sio6kbzz                 ?  321403  pnzrk74y            9.0   \n",
            "40252  ulvw1so2           Private  374983  0p1k3n85           13.0   \n",
            "40253  k56p3a2i           Private   83891  0p1k3n85           13.0   \n",
            "40254  r2b0ycw9      Self-emp-inc  182148  0p1k3n85           13.0   \n",
            "\n",
            "           marital-status         occupation    relationship  \\\n",
            "0           Never-married       Adm-clerical   Not-in-family   \n",
            "1      Married-civ-spouse    Exec-managerial         Husband   \n",
            "2                Divorced  Handlers-cleaners   Not-in-family   \n",
            "3      Married-civ-spouse  Handlers-cleaners         Husband   \n",
            "4      Married-civ-spouse     Prof-specialty            Wife   \n",
            "...                   ...                ...             ...   \n",
            "40250            Divorced     Prof-specialty   Not-in-family   \n",
            "40251             Widowed                  ?  Other-relative   \n",
            "40252  Married-civ-spouse     Prof-specialty         Husband   \n",
            "40253            Divorced       Adm-clerical       Own-child   \n",
            "40254  Married-civ-spouse    Exec-managerial         Husband   \n",
            "\n",
            "                     race       sex  capital-gain  capital-loss  \\\n",
            "0                   White  gb3dcesv        2174.0           0.0   \n",
            "1                   White  gb3dcesv           0.0           0.0   \n",
            "2                   White  gb3dcesv           0.0           0.0   \n",
            "3                   Black  gb3dcesv           0.0           0.0   \n",
            "4                   Black  ytewvncu           0.0           0.0   \n",
            "...                   ...       ...           ...           ...   \n",
            "40250               White  ytewvncu           0.0           0.0   \n",
            "40251               Black  gb3dcesv           0.0           0.0   \n",
            "40252               White  gb3dcesv           0.0           0.0   \n",
            "40253  Asian-Pac-Islander  gb3dcesv        5455.0           0.0   \n",
            "40254               White  gb3dcesv           0.0           0.0   \n",
            "\n",
            "       hours-per-week native-country income  \n",
            "0                40.0  United-States  <=50k  \n",
            "1                13.0  United-States  <=50k  \n",
            "2                40.0  United-States  <=50k  \n",
            "3                40.0  United-States  <=50k  \n",
            "4                40.0           Cuba  <=50k  \n",
            "...               ...            ...    ...  \n",
            "40250            36.0  United-States  <=50k  \n",
            "40251            40.0  United-States  <=50k  \n",
            "40252            50.0  United-States  <=50k  \n",
            "40253            40.0  United-States  <=50k  \n",
            "40254            60.0  United-States   >50k  \n",
            "\n",
            "[40255 rows x 15 columns]\n"
          ]
        }
      ]
    },
    {
      "cell_type": "code",
      "source": [
        "df.to_csv('pseudonymized_adult.csv', index=False)"
      ],
      "metadata": {
        "id": "LDdiizGWRZKg"
      },
      "execution_count": null,
      "outputs": []
    },
    {
      "cell_type": "markdown",
      "source": [
        "K-anonymization with pseudonymization"
      ],
      "metadata": {
        "id": "lo1WGhRreUSL"
      }
    },
    {
      "cell_type": "code",
      "source": [
        "import pandas as pd\n",
        "import numpy as np\n",
        "from sklearn.model_selection import train_test_split\n",
        "\n",
        "names = (\n",
        "    'age',\n",
        "    'workclass',\n",
        "    'fnlwgt',\n",
        "    'education',\n",
        "    'education-num',\n",
        "    'marital-status',\n",
        "    'occupation',\n",
        "    'relationship',\n",
        "    'race',\n",
        "    'sex',\n",
        "    'capital-gain',\n",
        "    'capital-loss',\n",
        "    'hours-per-week',\n",
        "    'native-country',\n",
        "    'income',\n",
        ")\n",
        "df = pd.read_csv(\"/content/adult.all.txt\", sep=\", \", header=None, names=names, index_col=False, engine='python');\n",
        "\n",
        "num_intervals = 10\n",
        "pseudonym_length = 8\n",
        "\n",
        "for i in range(num_intervals):\n",
        "    pseudonyms = pd.Series([''.join(np.random.choice(list('abcdefghijklmnopqrstuvwxyz0123456789'), pseudonym_length)) for j in range(len(df))])\n",
        "    df[f'pseudonym_{i}'] = pseudonyms\n",
        "\n",
        "train, test = train_test_split(df, test_size=0.3)\n",
        "\n",
        "# Perform k-anonymization on the training set\n",
        "k = 5\n",
        "sensitive_attributes = ['fnlwgt']\n",
        "quasi_identifiers = ['age', 'sex', 'education']\n",
        "\n",
        "qi_counts = train[quasi_identifiers].groupby(quasi_identifiers).size().reset_index(name='count')\n",
        "qi_dict = qi_counts.set_index(quasi_identifiers).to_dict()['count']\n",
        "\n",
        "# Replace quasi-identifiers with their frequencies in the training set\n",
        "train['qi_freq'] = [qi_dict[tuple(row)] for _, row in train[quasi_identifiers].iterrows()]\n",
        "\n",
        "# Find the groups of records that satisfy the k-anonymity requirement\n",
        "groups = train.groupby(quasi_identifiers).filter(lambda group: group['qi_freq'].count() >= k)\n",
        "\n",
        "for sa in sensitive_attributes:\n",
        "    groups[sa] = groups[sa].apply(lambda x: round(x, -3))\n",
        "\n",
        "train.update(groups)\n",
        "\n",
        "train = train.drop(columns=['qi_freq'])\n",
        "\n",
        "# test = pd.merge(test, train[[*quasi_identifiers] + *[f'pseudonym_{i}' for i in range(num_intervals)]], on=quasi_identifiers)\n",
        "test = pd.merge(test, train[[*quasi_identifiers, *[f'pseudonym_{i}' for i in range(num_intervals)]]], left_on=quasi_identifiers, right_on=quasi_identifiers)\n",
        "# Export the pseudonymized and k-anonymized dataset\n",
        "train.to_csv('employee_train_pseudonymized_k_anonymized.csv', index=False)\n",
        "test.to_csv('employee_test_pseudonymized_k_anonymized.csv', index=False)"
      ],
      "metadata": {
        "id": "waF9Hrx_eYe9"
      },
      "execution_count": null,
      "outputs": []
    },
    {
      "cell_type": "markdown",
      "source": [
        "new york city trip data 2016 pseudonymization"
      ],
      "metadata": {
        "id": "K6PBirnE1rHO"
      }
    },
    {
      "cell_type": "code",
      "source": [
        "import pandas as pd\n",
        "import numpy as np\n",
        "\n",
        "df = pd.read_csv('C:/Users/shant/Desktop/K-Anonymity-master/datasets/Green_Taxi_Trip_Data.csv')\n",
        "\n",
        "pseudonym_length = 8\n",
        "\n",
        "alphabet = list('abcdefghijklmnopqrstuvwxyz0123456789')\n",
        "\n",
        "pickup_pseudonyms = {}\n",
        "\n",
        "for lat, lon in df[['Pickup_latitude', 'Pickup_longitude']].drop_duplicates().values:\n",
        "    pickup_pseudonyms[(lat, lon)] = ''.join(np.random.choice(alphabet, pseudonym_length))\n",
        "\n",
        "df['Pickup_latitude'] = df['Pickup_latitude'].astype('object')\n",
        "df['Pickup_latitude'] = df['Pickup_latitude'].fillna(-1)\n",
        "df['Pickup_latitude'] = df['Pickup_latitude'].apply(lambda x: pickup_pseudonyms[(df.loc[x.index, 'Pickup_latitude'].values[0], df.loc[x.index, 'Pickup_longitude'].values[0])])\n",
        "df['Pickup_longitude'] = df['Pickup_longitude'].astype('object')\n",
        "df['Pickup_longitude'] = df['Pickup_longitude'].fillna(-1)\n",
        "df['Pickup_longitude'] = df['Pickup_longitude'].apply(lambda x: pickup_pseudonyms[(df.loc[x.index, 'Pickup_latitude'].values[0], df.loc[x.index, 'Pickup_longitude'].values[0])])\n",
        "\n",
        "dropoff_pseudonyms = {}\n",
        "for lat, lon in df[['Dropoff_latitude', 'Dropoff_longitude']].drop_duplicates().values:\n",
        "    dropoff_pseudonyms[(lat, lon)] = ''.join(np.random.choice(alphabet, pseudonym_length))\n",
        "\n",
        "df['Dropoff_latitude'] = df['Dropoff_latitude'].astype('object')\n",
        "df['Dropoff_latitude'] = df['Dropoff_latitude'].fillna(-1)\n",
        "df['Dropoff_latitude'] = df['Dropoff_latitude'].apply(lambda x: dropoff_pseudonyms[(df.loc[x.index, 'Dropoff_latitude'].values[0], df.loc[x.index, 'Dropoff_longitude'].values[0])])\n",
        "df['Dropoff_longitude'] = df['Dropoff_longitude'].astype('object')\n",
        "df['Dropoff_longitude'] = df['Dropoff_longitude'].fillna(-1)\n",
        "df['Dropoff_longitude'] = df['Dropoff_longitude'].apply(lambda x: dropoff_pseudonyms[(df.loc[x.index, 'Dropoff_latitude'].values[0], df.loc[x.index, 'Dropoff_longitude'].values[0])])\n",
        "\n",
        "passenger_count_pseudonyms = {}\n",
        "for passenger_count in df['Passenger_count'].unique():\n",
        "    passenger_count_pseudonyms[passenger_count] = ''.join(np.random.choice(alphabet, pseudonym_length))\n",
        "\n",
        "df['Passenger_count'] = df['Passenger_count'].apply(lambda x: passenger_count_pseudonyms[x])\n",
        "\n",
        "trip_distance_pseudonyms = {}\n",
        "for trip_distance in df['Trip_distance'].unique():\n",
        "    trip_distance_pseudonyms[trip_distance] = ''.join(np.random.choice(alphabet, pseudonym_length))\n",
        "\n",
        "df['Trip_distance'] = df['Trip_distance'].apply(lambda x: trip_distance_pseudonyms[x])\n",
        "\n",
        "fare_amount_pseudonyms = {}\n",
        "for fare_amount in df['Fare_amount'].unique():\n",
        "    fare_amount_pseudonyms[fare_amount] = ''.join(np.random.choice(alphabet, pseudonym_length))\n",
        "\n",
        "df['Fare_amount'] = df['Fare_amount'].apply(lambda x: fare_amount_pseudonyms[x])\n",
        "\n",
        "df.to_csv('pseudonymized_green_taxi.csv',index=False)\n"
      ],
      "metadata": {
        "id": "01pVzlGE1kEo"
      },
      "execution_count": null,
      "outputs": []
    },
    {
      "cell_type": "markdown",
      "source": [
        "k-anonymization + pseudonymization"
      ],
      "metadata": {
        "id": "Y1x0ORgVA0b3"
      }
    },
    {
      "cell_type": "code",
      "source": [
        "import pandas as pd\n",
        "import numpy as np\n",
        "\n",
        "df = pd.read_csv('C:/Users/shant/Desktop/K-Anonymity-master/datasets/bks tripdata/bks_tripdata_v2.csv')\n",
        "\n",
        "# Perform k-anonymization\n",
        "k = 5  # specify the desired k value\n",
        "df = df.groupby(['start_lat', 'start_lng', 'end_lat', 'end_lng']).apply(lambda x: x.sample(min(k, len(x)))).reset_index(drop=True)\n",
        "\n",
        "pseudonym_length = 8\n",
        "\n",
        "alphabet = list('abcdefghijklmnopqrstuvwxyz0123456789')\n",
        "\n",
        "df['start_lat'] = df['start_lat'].fillna(-1)\n",
        "df['start_lng'] = df['start_lng'].fillna(-1)\n",
        "df['end_lat'] = df['end_lat'].fillna(-1)\n",
        "df['end_lng'] = df['end_lng'].fillna(-1)\n",
        "\n",
        "# Pseudonymize start_lat and end_lat columns\n",
        "lat_pseudonyms = {}\n",
        "for lat in df['start_lat'].unique():\n",
        "    lat_pseudonyms[lat] = ''.join(np.random.choice(alphabet, pseudonym_length))\n",
        "for lat in df['end_lat'].unique():\n",
        "    lat_pseudonyms[lat] = ''.join(np.random.choice(alphabet, pseudonym_length))\n",
        "df['start_lat'] = df['start_lat'].apply(lambda x: lat_pseudonyms[x])\n",
        "df['end_lat'] = df['end_lat'].apply(lambda x: lat_pseudonyms[x])\n",
        "\n",
        "# Pseudonymize start_lng and end_lng columns\n",
        "lng_pseudonyms = {}\n",
        "for lng in df['start_lng'].unique():\n",
        "    lng_pseudonyms[lng] = ''.join(np.random.choice(alphabet, pseudonym_length))\n",
        "for lng in df['end_lng'].unique():\n",
        "    lng_pseudonyms[lng] = ''.join(np.random.choice(alphabet, pseudonym_length))\n",
        "df['start_lng'] = df['start_lng'].apply(lambda x: lng_pseudonyms[x])\n",
        "df['end_lng'] = df['end_lng'].apply(lambda x: lng_pseudonyms[x])\n",
        "\n",
        "# Pseudonymize start_station_id and end_station_id columns\n",
        "start_stations = {}\n",
        "for station_id in df['start_station_id'].unique():\n",
        "    start_stations[station_id] = df['start_station_name']\n",
        "\n",
        "end_stations = {}\n",
        "for end_id in df['end_station_id'].unique():\n",
        "    end_stations[end_id] = df['end_station_name']\n",
        "\n",
        "df=df.drop('start_station_name',axis=1)\n",
        "\n",
        "df=df.drop('end_station_name',axis=1)\n",
        "\n",
        "member_pseudonym={}\n",
        "for member in df['member_casual'].unique():\n",
        "    member_pseudonym[member]=''.join(np.random.choice(alphabet, pseudonym_length))\n",
        "df['member_casual'] = df['member_casual'].apply(lambda x: member_pseudonym[x])\n",
        "\n",
        "# Save pseudonymized data to CSV\n",
        "df.to_csv('k-pseudonymized_data.csv', index=False)\n"
      ],
      "metadata": {
        "id": "tQAyo3VYA4vr"
      },
      "execution_count": null,
      "outputs": []
    },
    {
      "cell_type": "markdown",
      "source": [
        "l-diversity and pseudonymization"
      ],
      "metadata": {
        "id": "IJVHvGL1BHVm"
      }
    },
    {
      "cell_type": "code",
      "source": [
        "import pandas as pd\n",
        "import numpy as np\n",
        "from collections import Counter\n",
        "\n",
        "# Load the dataset\n",
        "df = pd.read_csv('C:/Users/shant/Desktop/K-Anonymity-master/datasets/bks tripdata/bks_tripdata_v2.csv')\n",
        "\n",
        "# Specify the desired l value for l-diversity\n",
        "l = 3\n",
        "\n",
        "# Define a function to perform l-diversity on a column\n",
        "def l_diversity(column, l):\n",
        "    counts = Counter(column)\n",
        "    for i in range(len(column)):\n",
        "        if counts[column[i]] < l:\n",
        "            # Replace the value with a generalization or pseudonym\n",
        "            column[i] = 'Unknown'\n",
        "    return column\n",
        "\n",
        "# Perform l-diversity on sensitive columns\n",
        "df['age'] = l_diversity(df['age'], l)\n",
        "df['gender'] = l_diversity(df['gender'], l)\n",
        "\n",
        "pseudonym_length = 8\n",
        "\n",
        "alphabet = list('abcdefghijklmnopqrstuvwxyz0123456789')\n",
        "\n",
        "df['start_lat'] = df['start_lat'].fillna(-1)\n",
        "df['start_lng'] = df['start_lng'].fillna(-1)\n",
        "df['end_lat'] = df['end_lat'].fillna(-1)\n",
        "df['end_lng'] = df['end_lng'].fillna(-1)\n",
        "\n",
        "# Pseudonymize start_lat and end_lat columns\n",
        "lat_pseudonyms = {}\n",
        "for lat in df['start_lat'].unique():\n",
        "    lat_pseudonyms[lat] = ''.join(np.random.choice(alphabet, pseudonym_length))\n",
        "for lat in df['end_lat'].unique():\n",
        "    lat_pseudonyms[lat] = ''.join(np.random.choice(alphabet, pseudonym_length))\n",
        "df['start_lat'] = df['start_lat'].apply(lambda x: lat_pseudonyms[x])\n",
        "df['end_lat'] = df['end_lat'].apply(lambda x: lat_pseudonyms[x])\n",
        "\n",
        "# Pseudonymize start_lng and end_lng columns\n",
        "lng_pseudonyms = {}\n",
        "for lng in df['start_lng'].unique():\n",
        "    lng_pseudonyms[lng] = ''.join(np.random.choice(alphabet, pseudonym_length))\n",
        "for lng in df['end_lng'].unique():\n",
        "    lng_pseudonyms[lng] = ''.join(np.random.choice(alphabet, pseudonym_length))\n",
        "df['start_lng'] = df['start_lng'].apply(lambda x: lng_pseudonyms[x])\n",
        "df['end_lng'] = df['end_lng'].apply(lambda x: lng_pseudonyms[x])\n",
        "\n",
        "# Pseudonymize start_station_id and end_station_id columns\n",
        "start_stations = {}\n",
        "for station_id in df['start_station_id'].unique():\n",
        "    start_stations[station_id] = df['start_station_name']\n",
        "\n",
        "end_stations = {}\n",
        "for end_id in df['end_station_id'].unique():\n",
        "    end_stations[end_id] = df['end_station_name']\n",
        "\n",
        "df=df.drop('start_station_name',axis=1)\n",
        "\n",
        "df=df.drop('end_station_name',axis=1)\n",
        "\n",
        "member_pseudonym={}\n",
        "for member in df['member_casual'].unique():\n",
        "    member_pseudonym[member]=''.join(np.random.choice(alphabet, pseudonym_length))\n",
        "df['member_casual'] = df['member_casual'].apply(lambda x: member_pseudonym[x])\n",
        "\n",
        "# Save pseudonymized data to CSV\n",
        "df.to_csv('l-pseudonymized_data.csv', index=False)\n"
      ],
      "metadata": {
        "id": "hiE9oWQHBLYt"
      },
      "execution_count": null,
      "outputs": []
    },
    {
      "cell_type": "markdown",
      "source": [
        "Distance correlation\n"
      ],
      "metadata": {
        "id": "jVRJD9oKvs-d"
      }
    },
    {
      "cell_type": "code",
      "source": [
        "import numpy as np\n",
        "\n",
        "def pairwise_distance_matrix(X):\n",
        "    n_samples = X.shape[0]\n",
        "    D = np.zeros((n_samples, n_samples))\n",
        "    for i in range(n_samples):\n",
        "        for j in range(i+1, n_samples):\n",
        "            D[i, j] = np.linalg.norm(X[i] - X[j])\n",
        "            D[j, i] = D[i, j]\n",
        "    return D\n",
        "\n",
        "def distance_correlation(X, Y):\n",
        "    if X.shape[0] != Y.shape[0]:\n",
        "        raise ValueError(\"Input datasets must have the same number of rows\")\n",
        "\n",
        "    n = X.shape[0]\n",
        "    a = pairwise_distance_matrix(X)\n",
        "    b = pairwise_distance_matrix(Y)\n",
        "    aa = np.mean(a, axis=1) - np.mean(a, axis=0) + np.mean(a)\n",
        "    bb = np.mean(b, axis=1) - np.mean(b, axis=0) + np.mean(b)\n",
        "    d_cov2_y = np.sum(a * b) / (n * n)\n",
        "    d_cov2_x = np.sum(a * a) / (n * n)\n",
        "    d_cov2_yy = np.sum(b * b) / (n * n)\n",
        "\n",
        "    dcor = d_cov2_y / np.sqrt(d_cov2_x * d_cov2_yy)\n",
        "    return dcor\n"
      ],
      "metadata": {
        "id": "eCwrdQvbvwu_"
      },
      "execution_count": null,
      "outputs": []
    }
  ]
}